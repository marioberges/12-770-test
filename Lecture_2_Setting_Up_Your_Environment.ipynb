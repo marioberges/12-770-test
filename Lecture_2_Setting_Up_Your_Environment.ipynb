{
 "cells": [
  {
   "cell_type": "markdown",
   "metadata": {},
   "source": [
    "# Lecture \\#2: Setting up your Development Environment"
   ]
  },
  {
   "cell_type": "markdown",
   "metadata": {},
   "source": [
    "Here is what I intend to cover today:\n",
    "\n",
    "* Basics of Python\n",
    "* What is Interactive Python (IPython)?\n",
    "* What are Jupyter Notebooks?\n",
    "* What are version control systems, and what is Git?\n",
    "* What is GitHub?\n",
    "* How do I share code through a version control system like Git?\n",
    "\n",
    "At the end of this process, I would like for each of you to be able to create an Jupyter Notebook locally on your computer, and then be able to allow anyone else in the course (if pushing it to our course's repository) or in the world (if pushing it to a public repository) to see it.\n",
    "\n",
    "This very same file we have on the screen now will make that journey.\n"
   ]
  },
  {
   "cell_type": "markdown",
   "metadata": {},
   "source": [
    "## Before you begin\n",
    "\n",
    "Things you'll need to do ahead of time:\n",
    "\n",
    "1. Create an account on [github.com](http://github.com)\n",
    "2. Install the [Anaconda Python distribution](https://www.anaconda.com/distribution/) \n",
    "3. Install git on your computer, which you can get [here](http://git-scm.com/)\n",
    "\n",
    "In addition to the references posted on the slide deck, here are some references that will be **very** helpful to ensure you understand what we are doing and how it all works:\n",
    "\n",
    "1. Git References\n",
    "    * What it is and what is it used for? \n",
    "        * [Official Documentation](https://git-scm.com/documentation), especially the first three videos on this page.\n",
    "        * [Official Git Tutorial](https://git-scm.com/docs/gittutorial), if you are already familiar with the command line interface to some other version control software and just need to get started.\n",
    "    * How does it work?\n",
    "        * [Visual, interactive explanation](https://onlywei.github.io/explain-git-with-d3/): this is really valuable if you want to wrap your head around the basic of what's happening under the hood.\n",
    "        * [Git from the inside out](https://codewords.recurse.com/issues/two/git-from-the-inside-out): an in-depth discussion of how things really work under the hood.\n",
    "2. Python References\n",
    "    * Why Python and how is it useful for for Scientific Computing?\n",
    "        * First, a quick intro to [Python for Scientific Computing](http://nbviewer.ipython.org/github/jrjohansson/scientific-python-lectures/blob/master/Lecture-0-Scientific-Computing-with-Python.ipynb)\n",
    "        * Other cool sources:\n",
    "            * [SciPy lecture notes](http://www.scipy-lectures.org/): heavy focus on Python fundamentals.\n",
    "            * [Quantitative Economics with Python](http://lectures.quantecon.org/): the name says it all.\n",
    "            * Online Courses:\n",
    "                * [Introduction to Scientifi Python](https://web.stanford.edu/class/cme193/) (Stanford)\n",
    "                * [Practical Data Science](http://datasciencecourse.org/) (CMU)\n",
    "                * [Computational Statistics in Python](http://people.duke.edu/~ccc14/sta-663/index.html) (Duke)\n",
    "    * How to use Python?\n",
    "        * Here's [a tutorial](http://nbviewer.ipython.org/github/jrjohansson/scientific-python-lectures/blob/master/Lecture-1-Introduction-to-Python-Programming.ipynb).\n",
    "        * Two libraries that we are going to be making extensive use of are numpy and matplotlib. The same person who wrote the tutorial above has tutorials for [numpy](http://nbviewer.ipython.org/github/jrjohansson/scientific-python-lectures/blob/master/Lecture-2-Numpy.ipynb) and [matplotlib](http://nbviewer.ipython.org/github/jrjohansson/scientific-python-lectures/blob/master/Lecture-4-Matplotlib.ipynb)\n",
    "    "
   ]
  },
  {
   "cell_type": "markdown",
   "metadata": {},
   "source": [
    "OK. Let's get you started."
   ]
  },
  {
   "cell_type": "markdown",
   "metadata": {},
   "source": [
    "## Cloning the course's git repository\n",
    "\n",
    "This file you are currently viewing is part of the course's git repository, which you can find here:\n",
    "\n",
    "[https://github.com/INFERLab/S22-12-770](https://github.com/INFERLab/S22-12-770)\n",
    "\n",
    "Since it is in a private repository, you need to be invited as a contributor to be able to clone that repository into your computer and edit each file locally. So make sure you've shared your Github username with me before proceeding. Once you are a contributor, you could either clone it using the command line interface to git, or a graphical user interface (whichever you installed on your computer if you chose to install git). From the command line, for instance, you would issue this command to clone it:\n",
    "\n",
    "```\n",
    "git clone http://github.com/marioberges/S21-12-752.git\n",
    "```"
   ]
  },
  {
   "cell_type": "markdown",
   "metadata": {},
   "source": [
    "Make sure that you can clone the repository in your computer by issuing that command.\n",
    "\n",
    "If you are successful, you will be able to see a new folder called `S22-12-770` inside the folder where you issued the command. A copy of this Jupyter Notebook file should be in there as well, and you can view it by opening an Jupyter Notebook Server as follows:\n",
    "\n",
    "```\n",
    "jupyter notebook\n",
    "```\n",
    "\n",
    "Just make sure you issue this last command on the corresponding folder."
   ]
  },
  {
   "cell_type": "markdown",
   "metadata": {},
   "source": [
    "# Creating and using your own repositories\n",
    "\n",
    "The steps we followed above were for cloning the course's official repository. However, you will want to repeat these steps for any other repository you may be interested in working with, especially the ones that you end up creating under your Github account. Thus, let's practice importing one of your repositories.\n",
    "\n",
    "Follow these steps:\n",
    "\n",
    "1. Head over to github.com and log in using your credentials.\n",
    "2. Create a new repository and name it whatever you like.\n",
    "3. At the end of the process you will be given a checkout string. Copy that.\n",
    "4. Use the checkout string to replace the one we used earlier that looked like this:\n",
    "    ```\n",
    "    git clone http://github.com/yourusername/yourrepository.git\n",
    "    ```\n",
    "5. Try issuing that command on your computer (obviously, replacing `yourusername` and `yourrepository` with the right information)\n",
    "6. If all goes well, you'll have your (empty) repository available for use in your computer."
   ]
  },
  {
   "cell_type": "markdown",
   "metadata": {},
   "source": [
    "Now it's time for you to practice some of your recently learned git skills. \n",
    "\n",
    "Create a new Jupyter notebook, making sure to place it inside the folder of the repository you just cloned. \n",
    "\n",
    "Add a couple of Python commands to it, or some comments, and save it.\n",
    "\n",
    "Now go back to the terminal and add, commit and push the changes to your repository:\n",
    "\n",
    "```\n",
    "git add yourfile.ipynb\n",
    "git commit -m \"Made my first commit\"\n",
    "git push origin master\n",
    "```\n",
    "\n",
    "If this worked, you should be able to see the file added to your repository by simply pointing your browser to:\n",
    "\n",
    "`http://github.com/yourusername/yourrepository`"
   ]
  },
  {
   "cell_type": "markdown",
   "metadata": {},
   "source": [
    "## Doing away with the terminal\n",
    "\n",
    "Because Jupyter can be used to issue commands to a shell, directly, you can avoid having to switch to a terminal screen if you want to. This means we could have performed all of the above git manipulation directly from this notebook. The trick is to create a *Code* cell (the default type of cells) in the Jupyter notebook and then issuing the commands preceded by a `!` sign, as follows:"
   ]
  },
  {
   "cell_type": "code",
   "execution_count": null,
   "metadata": {},
   "outputs": [],
   "source": [
    "!git status"
   ]
  },
  {
   "cell_type": "markdown",
   "metadata": {},
   "source": [
    "Try running the above cell and see what you get."
   ]
  },
  {
   "cell_type": "code",
   "execution_count": 1,
   "metadata": {},
   "outputs": [],
   "source": [
    "import numpy as np\n",
    "import matplotlib.pyplot as plt\n",
    "%matplotlib inline"
   ]
  },
  {
   "cell_type": "code",
   "execution_count": null,
   "metadata": {},
   "outputs": [],
   "source": [
    "np.arange"
   ]
  }
 ],
 "metadata": {
  "anaconda-cloud": {},
  "kernelspec": {
   "display_name": "Python 3 (ipykernel)",
   "language": "python",
   "name": "python3"
  },
  "language_info": {
   "codemirror_mode": {
    "name": "ipython",
    "version": 3
   },
   "file_extension": ".py",
   "mimetype": "text/x-python",
   "name": "python",
   "nbconvert_exporter": "python",
   "pygments_lexer": "ipython3",
   "version": "3.8.12"
  }
 },
 "nbformat": 4,
 "nbformat_minor": 1
}
